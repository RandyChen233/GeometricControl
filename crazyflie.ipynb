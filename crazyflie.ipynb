{
 "cells": [
  {
   "cell_type": "markdown",
   "id": "79926b6e",
   "metadata": {},
   "source": [
    "## Dynamic model"
   ]
  },
  {
   "cell_type": "code",
   "execution_count": 3,
   "id": "184436ca",
   "metadata": {},
   "outputs": [],
   "source": [
    "import numpy as np\n",
    "import sympy as sym\n",
    "import json\n",
    "import matplotlib.pyplot as plt\n",
    "from scipy import linalg\n",
    "from scipy.interpolate import interp1d\n"
   ]
  },
  {
   "cell_type": "code",
   "execution_count": 51,
   "id": "60a28847",
   "metadata": {},
   "outputs": [
    {
     "name": "stdout",
     "output_type": "stream",
     "text": [
      "Collecting control\n",
      "  Downloading control-0.9.1.tar.gz (357 kB)\n",
      "Requirement already satisfied: numpy in d:\\softwares\\anaconda\\envs\\ae483\\lib\\site-packages (from control) (1.19.5)\n",
      "Requirement already satisfied: scipy in d:\\softwares\\anaconda\\envs\\ae483\\lib\\site-packages (from control) (1.6.2)\n",
      "Requirement already satisfied: matplotlib in d:\\softwares\\anaconda\\envs\\ae483\\lib\\site-packages (from control) (3.4.3)\n",
      "Requirement already satisfied: kiwisolver>=1.0.1 in d:\\softwares\\anaconda\\envs\\ae483\\lib\\site-packages (from matplotlib->control) (1.3.1)\n",
      "Requirement already satisfied: pillow>=6.2.0 in d:\\softwares\\anaconda\\envs\\ae483\\lib\\site-packages (from matplotlib->control) (8.4.0)\n",
      "Requirement already satisfied: pyparsing>=2.2.1 in d:\\softwares\\anaconda\\envs\\ae483\\lib\\site-packages (from matplotlib->control) (3.0.4)\n",
      "Requirement already satisfied: python-dateutil>=2.7 in d:\\softwares\\anaconda\\envs\\ae483\\lib\\site-packages (from matplotlib->control) (2.8.2)\n",
      "Requirement already satisfied: cycler>=0.10 in d:\\softwares\\anaconda\\envs\\ae483\\lib\\site-packages (from matplotlib->control) (0.10.0)\n",
      "Requirement already satisfied: six in d:\\softwares\\anaconda\\envs\\ae483\\lib\\site-packages (from cycler>=0.10->matplotlib->control) (1.16.0)\n",
      "Building wheels for collected packages: control\n",
      "  Building wheel for control (setup.py): started\n",
      "  Building wheel for control (setup.py): finished with status 'done'\n",
      "  Created wheel for control: filename=control-0.9.1-py2.py3-none-any.whl size=364709 sha256=84e1612f0b9afbb8dd63114d7f27409acf9fc66f1d7846bd63a6d1482970fcf0\n",
      "  Stored in directory: c:\\users\\randy666\\appdata\\local\\pip\\cache\\wheels\\3f\\b5\\1f\\54502176ba6caf1fc6ca38a588d8ab0cec21fe95994b88bb2b\n",
      "Successfully built control\n",
      "Installing collected packages: control\n",
      "Successfully installed control-0.9.1\n"
     ]
    }
   ],
   "source": [
    "!pip install control"
   ]
  },
  {
   "cell_type": "code",
   "execution_count": 52,
   "id": "0ed12a0a",
   "metadata": {},
   "outputs": [],
   "source": [
    "import control"
   ]
  },
  {
   "cell_type": "code",
   "execution_count": 4,
   "id": "20c47348",
   "metadata": {},
   "outputs": [],
   "source": [
    "def load_simulation_data(filename, dronename):\n",
    "    # load data for all drones\n",
    "    with open(filename, 'r') as f:\n",
    "        data = json.load(f)\n",
    "    \n",
    "    # get data for one drone only\n",
    "    data = data[dronename]\n",
    "    \n",
    "    # convert lists to numpy arrays\n",
    "    for key in data.keys():\n",
    "        if isinstance(data[key], dict):\n",
    "            for subkey in data[key].keys():\n",
    "                data[key][subkey] = np.array(data[key][subkey])\n",
    "        else:\n",
    "            data[key] = np.array(data[key])\n",
    "    \n",
    "    # return the data\n",
    "    return data"
   ]
  },
  {
   "cell_type": "code",
   "execution_count": 5,
   "id": "097233f4",
   "metadata": {},
   "outputs": [],
   "source": [
    "def load_hardware_data(filename, t_min_offset=0, t_max_offset=0):\n",
    "    # load raw data\n",
    "    with open(filename, 'r') as f:\n",
    "        data = json.load(f)\n",
    "\n",
    "    # convert lists to numpy arrays\n",
    "    for val in data.values():\n",
    "        for key in val.keys():\n",
    "            val[key] = np.array(val[key])\n",
    "\n",
    "    # create an array of times at which to subsample\n",
    "    t_min = -np.inf\n",
    "    t_max = np.inf\n",
    "    for key, val in data.items():\n",
    "        t_min = max(t_min, val['time'][0])\n",
    "        t_max = min(t_max, val['time'][-1])\n",
    "    t_min += t_min_offset * 1000\n",
    "    t_max -= t_max_offset * 1000\n",
    "    nt = int(1 + np.floor((t_max - t_min) / 10.))\n",
    "    t = np.arange(0, 10 * nt, 10) / 1000.\n",
    "    resampled_data = {'time': t}\n",
    "\n",
    "    # resample raw data with linear interpolation\n",
    "    for k, v in data.items():\n",
    "        f = interp1d((v['time'] - t_min) / 1000., v['data'])\n",
    "        resampled_data[k] = f(t)\n",
    "        \n",
    "    # return the resampled data\n",
    "    return resampled_data"
   ]
  },
  {
   "cell_type": "code",
   "execution_count": 6,
   "id": "b3c5e37f",
   "metadata": {},
   "outputs": [],
   "source": [
    "def export_controller(K, s, i, s_with_des, i_eq,\n",
    "                      decimals=8,\n",
    "                      suffix='',\n",
    "                      line_ending=''):\n",
    "    \"\"\"\n",
    "    K is a gain matrix, of size m x n\n",
    "    s is a list of states as symbolic variables, of length n\n",
    "    i is a list of inputs as symbolic variables, of length m\n",
    "    s_with_des is a list of states that have desired values, as\n",
    "        symbolic variables - if there are no such states, then\n",
    "        this should be an empty list []\n",
    "    i_eq is a list of equilibrium values of inputs, of length m\n",
    "    decimals is the number of decimals to include when printing\n",
    "        each value\n",
    "    suffix is the character (if any) to print after each number,\n",
    "        for example 'f' to indicate a \"float\" when exporting to C\n",
    "    line_ending is the character (if any) to print after each\n",
    "        line, for example ';' when exporting to C\n",
    "    \"\"\"\n",
    "    \n",
    "    s_name = [scur.name for scur in s]\n",
    "    i_name = [icur.name for icur in i]\n",
    "    for row in range(len(i_name)):\n",
    "        input_string = ''\n",
    "        for col in range(len(s_name)):\n",
    "            k = K[row, col]\n",
    "            if not np.isclose(k, 0.):\n",
    "                if (k < 0) and input_string:\n",
    "                    input_string += ' +'\n",
    "                if s[col] in s_with_des:\n",
    "                    n = f'({s_name[col]} - {s_name[col]}_des)'\n",
    "                else:\n",
    "                    n = s_name[col]\n",
    "                input_string += f' {-k:.{decimals}f}{suffix} * {n}'\n",
    "        if not np.isclose(i_eq[row], 0.):\n",
    "            if (i_eq[row] > 0) and input_string:\n",
    "                input_string += ' +'\n",
    "            input_string += f' {i_eq[row]:.{decimals}f}{suffix}'\n",
    "        print(f'{i_name[row]} ={input_string}{line_ending}')"
   ]
  },
  {
   "cell_type": "code",
   "execution_count": 7,
   "id": "75a02968",
   "metadata": {},
   "outputs": [],
   "source": [
    "def export_power_distribution(Pinv,\n",
    "                              limiter='self.limitUint16',\n",
    "                              decimals=1,\n",
    "                              suffix='',\n",
    "                              line_ending=''):\n",
    "    \"\"\"\n",
    "    Pinv is a 4 x 4 matrix that maps inputs (tau_x, tau_y, tau_z, f_z)\n",
    "        to motor power commands (m_1, m_2, m_3, m_4)\n",
    "    limiter is the name of the function to apply that ensures each\n",
    "        motor power command is valid (i.e., an integer within bounds),\n",
    "        for example \"limitUint16\" when exporting to C\n",
    "    decimals is the number of decimals to include when printing\n",
    "        each value\n",
    "    suffix is the character (if any) to print after each number,\n",
    "        for example 'f' to indicate a \"float\" when exporting to C\n",
    "    line_ending is the character (if any) to print after each\n",
    "        line, for example ';' when exporting to C\n",
    "    \"\"\"\n",
    "    \n",
    "    i_name = ['tau_x', 'tau_y', 'tau_z', 'f_z']\n",
    "    m_name = ['m_1', 'm_2', 'm_3', 'm_4']\n",
    "    for row in range(len(m_name)):\n",
    "        input_string = ''\n",
    "        for col in range(len(i_name)):\n",
    "            k = Pinv[row, col]\n",
    "            if not np.isclose(k, 0.):\n",
    "                if (k > 0) and input_string:\n",
    "                    input_string += ' +'\n",
    "                n = i_name[col]\n",
    "                input_string += f' {k:.{decimals}f}{suffix} * {n}'\n",
    "        print(f'{m_name[row]} = {limiter}({input_string} ){line_ending}')"
   ]
  },
  {
   "cell_type": "code",
   "execution_count": null,
   "id": "38622536",
   "metadata": {},
   "outputs": [],
   "source": []
  },
  {
   "cell_type": "code",
   "execution_count": 8,
   "id": "06c210c6",
   "metadata": {},
   "outputs": [],
   "source": [
    "# components of position (meters)\n",
    "o_x, o_y, o_z = sym.symbols('o_x, o_y, o_z')\n",
    "\n",
    "# yaw, pitch, and roll angles (radians)\n",
    "psi, theta, phi = sym.symbols('psi, theta, phi')\n",
    "\n",
    "# components of linear velocity (meters / second)\n",
    "v_x, v_y, v_z = sym.symbols('v_x, v_y, v_z')\n",
    "\n",
    "# components of angular velocity (radians / second)\n",
    "w_x, w_y, w_z = sym.symbols('w_x, w_y, w_z')"
   ]
  },
  {
   "cell_type": "code",
   "execution_count": 9,
   "id": "aa75e00f",
   "metadata": {},
   "outputs": [],
   "source": [
    "# components of net rotor torque\n",
    "tau_x, tau_y, tau_z = sym.symbols('tau_x, tau_y, tau_z')\n",
    "\n",
    "# net rotor force\n",
    "f_z = sym.symbols('f_z')"
   ]
  },
  {
   "cell_type": "code",
   "execution_count": 10,
   "id": "2dd63834",
   "metadata": {},
   "outputs": [],
   "source": [
    "m, J_x, J_y, J_z, g = sym.symbols('m, J_x, J_y, J_z, g')"
   ]
  },
  {
   "cell_type": "markdown",
   "id": "179e23a2",
   "metadata": {},
   "source": [
    "Create linear and angular velocity vectors (in coordinates of the body frame)."
   ]
  },
  {
   "cell_type": "code",
   "execution_count": 11,
   "id": "11a15bb1",
   "metadata": {},
   "outputs": [],
   "source": [
    "v_01in1 = sym.Matrix([[v_x], [v_y], [v_z]])\n",
    "w_01in1 = sym.Matrix([[w_x], [w_y], [w_z]])"
   ]
  },
  {
   "cell_type": "code",
   "execution_count": 12,
   "id": "a49c7f9e",
   "metadata": {},
   "outputs": [],
   "source": [
    "J_in1 = sym.diag(J_x, J_y, J_z)"
   ]
  },
  {
   "cell_type": "raw",
   "id": "18c7469f",
   "metadata": {},
   "source": [
    "Individual rotation matrices (from Euler angles)"
   ]
  },
  {
   "cell_type": "code",
   "execution_count": 13,
   "id": "7ad315c2",
   "metadata": {},
   "outputs": [],
   "source": [
    "Rz = sym.Matrix([[sym.cos(psi), -sym.sin(psi), 0],\n",
    "                 [sym.sin(psi), sym.cos(psi), 0],\n",
    "                 [0, 0, 1]])\n",
    "\n",
    "Ry = sym.Matrix([[sym.cos(theta), 0, sym.sin(theta)],\n",
    "                 [0, 1, 0],\n",
    "                 [-sym.sin(theta), 0, sym.cos(theta)]])\n",
    "\n",
    "Rx = sym.Matrix([[1, 0, 0],\n",
    "                 [0, sym.cos(phi), -sym.sin(phi)],\n",
    "                 [0, sym.sin(phi), sym.cos(phi)]])"
   ]
  },
  {
   "cell_type": "code",
   "execution_count": 14,
   "id": "d58fa18e",
   "metadata": {},
   "outputs": [],
   "source": [
    "#applying sequential rotation-> orientation of the body frame in the coordinates of the world frame\n",
    "R_1in0 = Rz * Ry * Rx"
   ]
  },
  {
   "cell_type": "code",
   "execution_count": 15,
   "id": "077f46bc",
   "metadata": {},
   "outputs": [
    {
     "data": {
      "text/latex": [
       "$\\displaystyle \\left[\\begin{matrix}\\cos{\\left(\\psi \\right)} \\cos{\\left(\\theta \\right)} & \\sin{\\left(\\phi \\right)} \\sin{\\left(\\theta \\right)} \\cos{\\left(\\psi \\right)} - \\sin{\\left(\\psi \\right)} \\cos{\\left(\\phi \\right)} & \\sin{\\left(\\phi \\right)} \\sin{\\left(\\psi \\right)} + \\sin{\\left(\\theta \\right)} \\cos{\\left(\\phi \\right)} \\cos{\\left(\\psi \\right)}\\\\\\sin{\\left(\\psi \\right)} \\cos{\\left(\\theta \\right)} & \\sin{\\left(\\phi \\right)} \\sin{\\left(\\psi \\right)} \\sin{\\left(\\theta \\right)} + \\cos{\\left(\\phi \\right)} \\cos{\\left(\\psi \\right)} & - \\sin{\\left(\\phi \\right)} \\cos{\\left(\\psi \\right)} + \\sin{\\left(\\psi \\right)} \\sin{\\left(\\theta \\right)} \\cos{\\left(\\phi \\right)}\\\\- \\sin{\\left(\\theta \\right)} & \\sin{\\left(\\phi \\right)} \\cos{\\left(\\theta \\right)} & \\cos{\\left(\\phi \\right)} \\cos{\\left(\\theta \\right)}\\end{matrix}\\right]$"
      ],
      "text/plain": [
       "Matrix([\n",
       "[cos(psi)*cos(theta), sin(phi)*sin(theta)*cos(psi) - sin(psi)*cos(phi),  sin(phi)*sin(psi) + sin(theta)*cos(phi)*cos(psi)],\n",
       "[sin(psi)*cos(theta), sin(phi)*sin(psi)*sin(theta) + cos(phi)*cos(psi), -sin(phi)*cos(psi) + sin(psi)*sin(theta)*cos(phi)],\n",
       "[        -sin(theta),                              sin(phi)*cos(theta),                               cos(phi)*cos(theta)]])"
      ]
     },
     "execution_count": 15,
     "metadata": {},
     "output_type": "execute_result"
    }
   ],
   "source": [
    "R_1in0"
   ]
  },
  {
   "cell_type": "markdown",
   "id": "fe1d69af",
   "metadata": {},
   "source": [
    "Recall that\n",
    "\n",
    "$$\\begin{bmatrix} \\dot{\\psi} \\\\ \\dot{\\theta} \\\\ \\dot{\\phi} \\end{bmatrix} = N w_{0, 1}^{1}$$\n",
    "\n",
    "for some matrix $N$. Here is how to compute that matrix for a ZYX (yaw, pitch, roll) Euler angle sequence.  First, we compute its inverse:"
   ]
  },
  {
   "cell_type": "code",
   "execution_count": 16,
   "id": "7ebd455d",
   "metadata": {},
   "outputs": [],
   "source": [
    "Ninv = sym.Matrix.hstack((Ry * Rx).T * sym.Matrix([[0], [0], [1]]),\n",
    "                              (Rx).T * sym.Matrix([[0], [1], [0]]),\n",
    "                                       sym.Matrix([[1], [0], [0]]))"
   ]
  },
  {
   "cell_type": "code",
   "execution_count": 17,
   "id": "cdd45652",
   "metadata": {},
   "outputs": [
    {
     "data": {
      "text/latex": [
       "$\\displaystyle \\left[\\begin{matrix}- \\sin{\\left(\\theta \\right)} & 0 & 1\\\\\\sin{\\left(\\phi \\right)} \\cos{\\left(\\theta \\right)} & \\cos{\\left(\\phi \\right)} & 0\\\\\\cos{\\left(\\phi \\right)} \\cos{\\left(\\theta \\right)} & - \\sin{\\left(\\phi \\right)} & 0\\end{matrix}\\right]$"
      ],
      "text/plain": [
       "Matrix([\n",
       "[        -sin(theta),         0, 1],\n",
       "[sin(phi)*cos(theta),  cos(phi), 0],\n",
       "[cos(phi)*cos(theta), -sin(phi), 0]])"
      ]
     },
     "execution_count": 17,
     "metadata": {},
     "output_type": "execute_result"
    }
   ],
   "source": [
    "Ninv"
   ]
  },
  {
   "cell_type": "code",
   "execution_count": 18,
   "id": "e90a5270",
   "metadata": {},
   "outputs": [],
   "source": [
    "N = sym.simplify(Ninv.inv())"
   ]
  },
  {
   "cell_type": "code",
   "execution_count": 19,
   "id": "756fdaa3",
   "metadata": {},
   "outputs": [
    {
     "data": {
      "text/latex": [
       "$\\displaystyle \\left[\\begin{matrix}0 & \\frac{\\sin{\\left(\\phi \\right)}}{\\cos{\\left(\\theta \\right)}} & \\frac{\\cos{\\left(\\phi \\right)}}{\\cos{\\left(\\theta \\right)}}\\\\0 & \\cos{\\left(\\phi \\right)} & - \\sin{\\left(\\phi \\right)}\\\\1 & \\sin{\\left(\\phi \\right)} \\tan{\\left(\\theta \\right)} & \\cos{\\left(\\phi \\right)} \\tan{\\left(\\theta \\right)}\\end{matrix}\\right]$"
      ],
      "text/plain": [
       "Matrix([\n",
       "[0, sin(phi)/cos(theta), cos(phi)/cos(theta)],\n",
       "[0,            cos(phi),           -sin(phi)],\n",
       "[1, sin(phi)*tan(theta), cos(phi)*tan(theta)]])"
      ]
     },
     "execution_count": 19,
     "metadata": {},
     "output_type": "execute_result"
    }
   ],
   "source": [
    "N"
   ]
  },
  {
   "cell_type": "markdown",
   "id": "d0e566e4",
   "metadata": {},
   "source": [
    "Forces:\n"
   ]
  },
  {
   "cell_type": "code",
   "execution_count": 20,
   "id": "bbd5ca7b",
   "metadata": {},
   "outputs": [],
   "source": [
    "f_in1 = R_1in0.T * sym.Matrix([[0], [0], [-m * g]]) + sym.Matrix([[0], [0], [f_z]])"
   ]
  },
  {
   "cell_type": "markdown",
   "id": "e944d07b",
   "metadata": {},
   "source": [
    "torques:\n"
   ]
  },
  {
   "cell_type": "code",
   "execution_count": 21,
   "id": "3c3a0d0d",
   "metadata": {},
   "outputs": [],
   "source": [
    "tau_in1 = sym.Matrix([[tau_x], [tau_y], [tau_z]])"
   ]
  },
  {
   "cell_type": "code",
   "execution_count": 22,
   "id": "6f44b37c",
   "metadata": {},
   "outputs": [
    {
     "data": {
      "text/latex": [
       "$\\displaystyle \\left[\\begin{matrix}g m \\sin{\\left(\\theta \\right)}\\\\- g m \\sin{\\left(\\phi \\right)} \\cos{\\left(\\theta \\right)}\\\\f_{z} - g m \\cos{\\left(\\phi \\right)} \\cos{\\left(\\theta \\right)}\\end{matrix}\\right]$"
      ],
      "text/plain": [
       "Matrix([\n",
       "[               g*m*sin(theta)],\n",
       "[     -g*m*sin(phi)*cos(theta)],\n",
       "[f_z - g*m*cos(phi)*cos(theta)]])"
      ]
     },
     "execution_count": 22,
     "metadata": {},
     "output_type": "execute_result"
    }
   ],
   "source": [
    "f_in1"
   ]
  },
  {
   "cell_type": "code",
   "execution_count": 23,
   "id": "c9a9e99c",
   "metadata": {},
   "outputs": [
    {
     "data": {
      "text/latex": [
       "$\\displaystyle \\left[\\begin{matrix}\\tau_{x}\\\\\\tau_{y}\\\\\\tau_{z}\\end{matrix}\\right]$"
      ],
      "text/plain": [
       "Matrix([\n",
       "[tau_x],\n",
       "[tau_y],\n",
       "[tau_z]])"
      ]
     },
     "execution_count": 23,
     "metadata": {},
     "output_type": "execute_result"
    }
   ],
   "source": [
    "tau_in1"
   ]
  },
  {
   "cell_type": "code",
   "execution_count": 24,
   "id": "6aee4277",
   "metadata": {},
   "outputs": [],
   "source": [
    "#equations of motion\n",
    "f_sym = sym.Matrix.vstack(R_1in0 * v_01in1,\n",
    "                          N * w_01in1,\n",
    "                          (1 / m) * (f_in1 - w_01in1.cross(m * v_01in1)),\n",
    "                          J_in1.inv() * (tau_in1 - w_01in1.cross(J_in1 * w_01in1)))"
   ]
  },
  {
   "cell_type": "code",
   "execution_count": 25,
   "id": "d268f15b",
   "metadata": {},
   "outputs": [
    {
     "data": {
      "text/latex": [
       "$\\displaystyle \\left[\\begin{matrix}v_{x} \\cos{\\left(\\psi \\right)} \\cos{\\left(\\theta \\right)} + v_{y} \\left(\\sin{\\left(\\phi \\right)} \\sin{\\left(\\theta \\right)} \\cos{\\left(\\psi \\right)} - \\sin{\\left(\\psi \\right)} \\cos{\\left(\\phi \\right)}\\right) + v_{z} \\left(\\sin{\\left(\\phi \\right)} \\sin{\\left(\\psi \\right)} + \\sin{\\left(\\theta \\right)} \\cos{\\left(\\phi \\right)} \\cos{\\left(\\psi \\right)}\\right)\\\\v_{x} \\sin{\\left(\\psi \\right)} \\cos{\\left(\\theta \\right)} + v_{y} \\left(\\sin{\\left(\\phi \\right)} \\sin{\\left(\\psi \\right)} \\sin{\\left(\\theta \\right)} + \\cos{\\left(\\phi \\right)} \\cos{\\left(\\psi \\right)}\\right) + v_{z} \\left(- \\sin{\\left(\\phi \\right)} \\cos{\\left(\\psi \\right)} + \\sin{\\left(\\psi \\right)} \\sin{\\left(\\theta \\right)} \\cos{\\left(\\phi \\right)}\\right)\\\\- v_{x} \\sin{\\left(\\theta \\right)} + v_{y} \\sin{\\left(\\phi \\right)} \\cos{\\left(\\theta \\right)} + v_{z} \\cos{\\left(\\phi \\right)} \\cos{\\left(\\theta \\right)}\\\\\\frac{w_{y} \\sin{\\left(\\phi \\right)}}{\\cos{\\left(\\theta \\right)}} + \\frac{w_{z} \\cos{\\left(\\phi \\right)}}{\\cos{\\left(\\theta \\right)}}\\\\w_{y} \\cos{\\left(\\phi \\right)} - w_{z} \\sin{\\left(\\phi \\right)}\\\\w_{x} + w_{y} \\sin{\\left(\\phi \\right)} \\tan{\\left(\\theta \\right)} + w_{z} \\cos{\\left(\\phi \\right)} \\tan{\\left(\\theta \\right)}\\\\\\frac{g m \\sin{\\left(\\theta \\right)} + m v_{y} w_{z} - m v_{z} w_{y}}{m}\\\\\\frac{- g m \\sin{\\left(\\phi \\right)} \\cos{\\left(\\theta \\right)} - m v_{x} w_{z} + m v_{z} w_{x}}{m}\\\\\\frac{f_{z} - g m \\cos{\\left(\\phi \\right)} \\cos{\\left(\\theta \\right)} + m v_{x} w_{y} - m v_{y} w_{x}}{m}\\\\\\frac{J_{y} w_{y} w_{z} - J_{z} w_{y} w_{z} + \\tau_{x}}{J_{x}}\\\\\\frac{- J_{x} w_{x} w_{z} + J_{z} w_{x} w_{z} + \\tau_{y}}{J_{y}}\\\\\\frac{J_{x} w_{x} w_{y} - J_{y} w_{x} w_{y} + \\tau_{z}}{J_{z}}\\end{matrix}\\right]$"
      ],
      "text/plain": [
       "Matrix([\n",
       "[ v_x*cos(psi)*cos(theta) + v_y*(sin(phi)*sin(theta)*cos(psi) - sin(psi)*cos(phi)) + v_z*(sin(phi)*sin(psi) + sin(theta)*cos(phi)*cos(psi))],\n",
       "[v_x*sin(psi)*cos(theta) + v_y*(sin(phi)*sin(psi)*sin(theta) + cos(phi)*cos(psi)) + v_z*(-sin(phi)*cos(psi) + sin(psi)*sin(theta)*cos(phi))],\n",
       "[                                                                       -v_x*sin(theta) + v_y*sin(phi)*cos(theta) + v_z*cos(phi)*cos(theta)],\n",
       "[                                                                                         w_y*sin(phi)/cos(theta) + w_z*cos(phi)/cos(theta)],\n",
       "[                                                                                                               w_y*cos(phi) - w_z*sin(phi)],\n",
       "[                                                                                   w_x + w_y*sin(phi)*tan(theta) + w_z*cos(phi)*tan(theta)],\n",
       "[                                                                                                (g*m*sin(theta) + m*v_y*w_z - m*v_z*w_y)/m],\n",
       "[                                                                                      (-g*m*sin(phi)*cos(theta) - m*v_x*w_z + m*v_z*w_x)/m],\n",
       "[                                                                                 (f_z - g*m*cos(phi)*cos(theta) + m*v_x*w_y - m*v_y*w_x)/m],\n",
       "[                                                                                                   (J_y*w_y*w_z - J_z*w_y*w_z + tau_x)/J_x],\n",
       "[                                                                                                  (-J_x*w_x*w_z + J_z*w_x*w_z + tau_y)/J_y],\n",
       "[                                                                                                   (J_x*w_x*w_y - J_y*w_x*w_y + tau_z)/J_z]])"
      ]
     },
     "execution_count": 25,
     "metadata": {},
     "output_type": "execute_result"
    }
   ],
   "source": [
    "f_sym"
   ]
  },
  {
   "cell_type": "markdown",
   "id": "461f34a7",
   "metadata": {},
   "source": [
    "state space model:"
   ]
  },
  {
   "cell_type": "code",
   "execution_count": 26,
   "id": "037308a5",
   "metadata": {},
   "outputs": [],
   "source": [
    "s = [o_x, o_y, o_z, psi, theta, phi, v_x, v_y, v_z, w_x, w_y, w_z] #states\n",
    "i = [tau_x, tau_y, tau_z, f_z] #inputs\n",
    "p = [m, J_x, J_y, J_z, g] #parameters"
   ]
  },
  {
   "cell_type": "code",
   "execution_count": 27,
   "id": "dc32d48d",
   "metadata": {},
   "outputs": [],
   "source": [
    "s_with_des = [o_x, o_y, o_z]"
   ]
  },
  {
   "cell_type": "code",
   "execution_count": 28,
   "id": "16bdeca7",
   "metadata": {},
   "outputs": [],
   "source": [
    "f = sym.lambdify(s + i + p, f_sym) #numericalize the symbolic equations of motion"
   ]
  },
  {
   "cell_type": "code",
   "execution_count": 29,
   "id": "360d60e2",
   "metadata": {},
   "outputs": [],
   "source": [
    "#Parameters for a Crazyflie:\n",
    "# Mass\n",
    "m = 0.0315\n",
    "\n",
    "# Principle moments of inertia\n",
    "J_x = 1.7572149113694408e-05\n",
    "J_y = 1.856979710568617e-05\n",
    "J_z = 2.7159794713754086e-05\n",
    "\n",
    "# Acceleration of gravity\n",
    "g = 9.81"
   ]
  },
  {
   "cell_type": "code",
   "execution_count": 30,
   "id": "60cfdce1",
   "metadata": {},
   "outputs": [],
   "source": [
    "p_eq = [m, J_x, J_y, J_z, g]"
   ]
  },
  {
   "cell_type": "code",
   "execution_count": 31,
   "id": "57e12575",
   "metadata": {},
   "outputs": [],
   "source": [
    "#a set of equilibrium states and inputs\n",
    "s_eq = [0., 0., 0., 0., 0., 0., 0., 0., 0., 0., 0., 0.]\n",
    "i_eq = [0., 0., 0., m*g]  "
   ]
  },
  {
   "cell_type": "code",
   "execution_count": 32,
   "id": "fd813b26",
   "metadata": {},
   "outputs": [
    {
     "name": "stdout",
     "output_type": "stream",
     "text": [
      "[[0.]\n",
      " [0.]\n",
      " [0.]\n",
      " [0.]\n",
      " [0.]\n",
      " [0.]\n",
      " [0.]\n",
      " [0.]\n",
      " [0.]\n",
      " [0.]\n",
      " [0.]\n",
      " [0.]]\n"
     ]
    }
   ],
   "source": [
    "print(f(*s_eq, *i_eq, *p_eq)) #verifying that f = 0 at equilibrium"
   ]
  },
  {
   "cell_type": "markdown",
   "id": "8eb64042",
   "metadata": {},
   "source": [
    "finding A and B matrices:"
   ]
  },
  {
   "cell_type": "code",
   "execution_count": 33,
   "id": "c3e7ad7e",
   "metadata": {},
   "outputs": [],
   "source": [
    "#jacobians in symbolic form\n",
    "A_sym = f_sym.jacobian(s)\n",
    "B_sym = f_sym.jacobian(i)\n",
    "#numerical form:\n",
    "A_num = sym.lambdify(s + i + p, A_sym)\n",
    "B_num = sym.lambdify(s + i + p, B_sym)"
   ]
  },
  {
   "cell_type": "code",
   "execution_count": 34,
   "id": "21b6e662",
   "metadata": {},
   "outputs": [],
   "source": [
    "#plugging in equilibrium values\n",
    "A = A_num(*s_eq, *i_eq, *p_eq)\n",
    "B = B_num(*s_eq, *i_eq, *p_eq)"
   ]
  },
  {
   "cell_type": "code",
   "execution_count": 35,
   "id": "d9218b62",
   "metadata": {},
   "outputs": [
    {
     "name": "stdout",
     "output_type": "stream",
     "text": [
      "A = [[ 0.00  0.00  0.00  0.00  0.00  0.00  1.00  0.00  0.00  0.00  0.00  0.00]\n",
      "     [ 0.00  0.00  0.00  0.00  0.00  0.00  0.00  1.00  0.00  0.00  0.00  0.00]\n",
      "     [ 0.00  0.00  0.00  0.00 -0.00  0.00 -0.00  0.00  1.00  0.00  0.00  0.00]\n",
      "     [ 0.00  0.00  0.00  0.00  0.00  0.00  0.00  0.00  0.00  0.00  0.00  1.00]\n",
      "     [ 0.00  0.00  0.00  0.00  0.00 -0.00  0.00  0.00  0.00  0.00  1.00 -0.00]\n",
      "     [ 0.00  0.00  0.00  0.00  0.00  0.00  0.00  0.00  0.00  1.00  0.00  0.00]\n",
      "     [ 0.00  0.00  0.00  0.00  9.81  0.00  0.00  0.00 -0.00  0.00 -0.00  0.00]\n",
      "     [ 0.00  0.00  0.00  0.00  0.00 -9.81 -0.00  0.00  0.00  0.00  0.00 -0.00]\n",
      "     [ 0.00  0.00  0.00  0.00  0.00  0.00  0.00 -0.00  0.00 -0.00  0.00  0.00]\n",
      "     [ 0.00  0.00  0.00  0.00  0.00  0.00  0.00  0.00  0.00  0.00  0.00  0.00]\n",
      "     [ 0.00  0.00  0.00  0.00  0.00  0.00  0.00  0.00  0.00  0.00  0.00  0.00]\n",
      "     [ 0.00  0.00  0.00  0.00  0.00  0.00  0.00  0.00  0.00  0.00  0.00  0.00]]\n"
     ]
    }
   ],
   "source": [
    "A_str = np.array2string(A,\n",
    "                        formatter={'float_kind': lambda x: f'{x:5.2f}'},\n",
    "                        prefix='    ',\n",
    "                        max_line_width=np.inf)\n",
    "\n",
    "print(f'A = {A_str}')"
   ]
  },
  {
   "cell_type": "code",
   "execution_count": 36,
   "id": "9b7c1f72",
   "metadata": {},
   "outputs": [
    {
     "name": "stdout",
     "output_type": "stream",
     "text": [
      "B = [[      0.00       0.00       0.00       0.00]\n",
      "     [      0.00       0.00       0.00       0.00]\n",
      "     [      0.00       0.00       0.00       0.00]\n",
      "     [      0.00       0.00       0.00       0.00]\n",
      "     [      0.00       0.00       0.00       0.00]\n",
      "     [      0.00       0.00       0.00       0.00]\n",
      "     [      0.00       0.00       0.00       0.00]\n",
      "     [      0.00       0.00       0.00       0.00]\n",
      "     [      0.00       0.00       0.00      31.75]\n",
      "     [  56908.24       0.00       0.00       0.00]\n",
      "     [      0.00   53850.88       0.00       0.00]\n",
      "     [      0.00       0.00   36819.13       0.00]]\n"
     ]
    }
   ],
   "source": [
    "B_str = np.array2string(B,\n",
    "                        formatter={'float_kind': lambda x: f'{x:10.2f}'},\n",
    "                        prefix='    ',\n",
    "                        max_line_width=np.inf)\n",
    "\n",
    "print(f'B = {B_str}')"
   ]
  },
  {
   "cell_type": "markdown",
   "id": "c0d85a92",
   "metadata": {},
   "source": [
    "The state-space system is described by\n",
    "\n",
    "$$ \\dot{x} = Ax + Bu $$\n",
    "\n",
    "where\n",
    "\n",
    "$$ x = s - s_\\text{eq} $$\n",
    "\n",
    "and\n",
    "\n",
    "$$ u = i - i_\\text{eq}. $$"
   ]
  },
  {
   "cell_type": "markdown",
   "id": "a7adb3e0",
   "metadata": {},
   "source": [
    "Defining constants:"
   ]
  },
  {
   "cell_type": "code",
   "execution_count": 37,
   "id": "504afadb",
   "metadata": {},
   "outputs": [],
   "source": [
    "k_F = 1.953243284426876e-06 #force constant\n",
    "k_M = 6.0582147794984354e-09 #moment constant\n",
    "l = 0.047 #length from center of the drone to the propeller (m)"
   ]
  },
  {
   "cell_type": "markdown",
   "id": "7911ef36",
   "metadata": {},
   "source": [
    "Define the matrix $P$ that maps motor power commands ($m_1$, $m_2$, $m_3$, $m_4$) to inputs ($\\tau_x$, $\\tau_y$, $\\tau_z$, $f_z$)."
   ]
  },
  {
   "cell_type": "code",
   "execution_count": 38,
   "id": "3293a652",
   "metadata": {},
   "outputs": [],
   "source": [
    "P = np.array([[ -l * k_F, -l * k_F,  l * k_F,  l * k_F  ],\n",
    "              [ -l * k_F, l * k_F,   l * k_F,  -l * k_F ],\n",
    "              [ -k_M,     k_M,       -k_M,     k_M      ],\n",
    "              [ k_F,      k_F,       k_F,      k_F      ]])"
   ]
  },
  {
   "cell_type": "markdown",
   "id": "9462504a",
   "metadata": {},
   "source": [
    "Compute the matrix $P^{-1}$ that maps inputs to motor power commands."
   ]
  },
  {
   "cell_type": "code",
   "execution_count": 39,
   "id": "b015ef1b",
   "metadata": {},
   "outputs": [],
   "source": [
    "Pinv = linalg.inv(P)"
   ]
  },
  {
   "cell_type": "markdown",
   "id": "8b8fff3a",
   "metadata": {},
   "source": [
    "Print code that implements the method of power distribution in python (for simulation)."
   ]
  },
  {
   "cell_type": "code",
   "execution_count": 40,
   "id": "81e42610",
   "metadata": {},
   "outputs": [
    {
     "name": "stdout",
     "output_type": "stream",
     "text": [
      "m_1 = self.limitUint16( -2723239.3 * tau_x -2723239.3 * tau_y -41266282.1 * tau_z + 127992.2 * f_z )\n",
      "m_2 = self.limitUint16( -2723239.3 * tau_x + 2723239.3 * tau_y + 41266282.1 * tau_z + 127992.2 * f_z )\n",
      "m_3 = self.limitUint16( 2723239.3 * tau_x + 2723239.3 * tau_y -41266282.1 * tau_z + 127992.2 * f_z )\n",
      "m_4 = self.limitUint16( 2723239.3 * tau_x -2723239.3 * tau_y + 41266282.1 * tau_z + 127992.2 * f_z )\n"
     ]
    }
   ],
   "source": [
    "export_power_distribution(Pinv)"
   ]
  },
  {
   "cell_type": "markdown",
   "id": "25f59ae2",
   "metadata": {},
   "source": [
    "Print code that implements the method of power distribution in C (for hardware)."
   ]
  },
  {
   "cell_type": "code",
   "execution_count": 41,
   "id": "e5f2e605",
   "metadata": {},
   "outputs": [
    {
     "name": "stdout",
     "output_type": "stream",
     "text": [
      "m_1 = limitUint16( -2723239.3f * tau_x -2723239.3f * tau_y -41266282.1f * tau_z + 127992.2f * f_z );\n",
      "m_2 = limitUint16( -2723239.3f * tau_x + 2723239.3f * tau_y + 41266282.1f * tau_z + 127992.2f * f_z );\n",
      "m_3 = limitUint16( 2723239.3f * tau_x + 2723239.3f * tau_y -41266282.1f * tau_z + 127992.2f * f_z );\n",
      "m_4 = limitUint16( 2723239.3f * tau_x -2723239.3f * tau_y + 41266282.1f * tau_z + 127992.2f * f_z );\n"
     ]
    }
   ],
   "source": [
    "export_power_distribution(\n",
    "    Pinv,\n",
    "    limiter='limitUint16',\n",
    "    suffix='f',\n",
    "    line_ending=';',\n",
    ")"
   ]
  },
  {
   "cell_type": "markdown",
   "id": "1ca52796",
   "metadata": {},
   "source": [
    "## Linear Quadratic Regulator"
   ]
  },
  {
   "cell_type": "code",
   "execution_count": 42,
   "id": "743cc664",
   "metadata": {},
   "outputs": [],
   "source": [
    "Q = np.diag([\n",
    "    1.,\n",
    "    1.,\n",
    "    1.,\n",
    "    1.,\n",
    "    1.,\n",
    "    1.,\n",
    "    1.,\n",
    "    1.,\n",
    "    1.,\n",
    "    1.,\n",
    "    1.,\n",
    "    1.,\n",
    "])\n",
    "\n",
    "R = 1e3 * np.diag([\n",
    "    1.,\n",
    "    1.,\n",
    "    1.,\n",
    "    1.,\n",
    "])"
   ]
  },
  {
   "cell_type": "markdown",
   "id": "d93ee4f0",
   "metadata": {},
   "source": [
    "Here is a function that solves the linear quadratic regulator (LQR) problem - i.e., that finds the matrix $K$ for which\n",
    "\n",
    "$$u(t) = - K x(t)$$\n",
    "\n",
    "is the optimal solution to\n",
    "\n",
    "$$\n",
    "\\begin{align*}\n",
    "\\underset{u_{[t_{0}, \\infty)}}{\\text{minimize}} &\\qquad \\int_{t_{0}}^{\\infty}\\left( x(t)^{T}Qx(t)+u(t)^{T}Ru(t)\\right)dt \\\\\n",
    "\\text{subject to} &\\qquad \\dot{x}(t) = Ax(t)+Bu(t), \\quad x(t_{0})=x_{0}.\n",
    "\\end{align*}\n",
    "$$"
   ]
  },
  {
   "cell_type": "code",
   "execution_count": 45,
   "id": "d7845c52",
   "metadata": {},
   "outputs": [],
   "source": [
    "def lqr(A, B, Q, R):\n",
    "    P = linalg.solve_continuous_are(A, B, Q, R)\n",
    "    K = linalg.inv(R) @  B.T @ P\n",
    "    return K"
   ]
  },
  {
   "cell_type": "code",
   "execution_count": 46,
   "id": "729efb94",
   "metadata": {},
   "outputs": [],
   "source": [
    "K = lqr(A, B, Q, R)"
   ]
  },
  {
   "cell_type": "code",
   "execution_count": 47,
   "id": "1877b94f",
   "metadata": {},
   "outputs": [
    {
     "name": "stdout",
     "output_type": "stream",
     "text": [
      "K = [[-0.000 -0.032  0.000 -0.000 -0.000  0.172 -0.000 -0.046 -0.000  0.032  0.000  0.000]\n",
      "     [ 0.032 -0.000 -0.000  0.000  0.172  0.000  0.046 -0.000 -0.000  0.000  0.032 -0.000]\n",
      "     [-0.000 -0.000  0.000  0.032 -0.000  0.000 -0.000 -0.000  0.000  0.000 -0.000  0.032]\n",
      "     [-0.000  0.000  0.032  0.000 -0.000 -0.000 -0.000  0.000  0.055 -0.000 -0.000  0.000]]\n"
     ]
    }
   ],
   "source": [
    "K_str = np.array2string(K,\n",
    "                        formatter={'float_kind': lambda x: f'{x:6.3f}'},\n",
    "                        prefix='    ',\n",
    "                        max_line_width=np.inf)\n",
    "\n",
    "print(f'K = {K_str}')"
   ]
  },
  {
   "cell_type": "code",
   "execution_count": 50,
   "id": "54d6e791",
   "metadata": {},
   "outputs": [
    {
     "data": {
      "text/plain": [
       "(4, 12)"
      ]
     },
     "execution_count": 50,
     "metadata": {},
     "output_type": "execute_result"
    }
   ],
   "source": [
    "K.shape"
   ]
  },
  {
   "cell_type": "code",
   "execution_count": 48,
   "id": "35e0e72f",
   "metadata": {},
   "outputs": [
    {
     "name": "stdout",
     "output_type": "stream",
     "text": [
      "tau_x = 0.03162278 * (o_y - o_y_des) -0.17194428 * phi + 0.04591877 * v_y -0.03171818 * w_x\n",
      "tau_y = -0.03162278 * (o_x - o_x_des) -0.17195848 * theta -0.04591976 * v_x -0.03172359 * w_y\n",
      "tau_z = -0.03162278 * psi -0.03164992 * w_z\n",
      "f_z = -0.03162278 * (o_z - o_z_des) -0.05470132 * v_z + 0.30901500\n"
     ]
    }
   ],
   "source": [
    "export_controller(\n",
    "    K,               # the gain matrix\n",
    "    s,               # list of states as symbolic variables\n",
    "    i,               # list of inputs as symbolic variables\n",
    "    s_with_des,      # list of states that have desired values as symbolic variables\n",
    "    i_eq,            # list of equilibrium values of inputs\n",
    ")"
   ]
  },
  {
   "cell_type": "code",
   "execution_count": 49,
   "id": "ae54bfae",
   "metadata": {},
   "outputs": [
    {
     "name": "stdout",
     "output_type": "stream",
     "text": [
      "tau_x = 0.03162278f * (o_y - o_y_des) -0.17194428f * phi + 0.04591877f * v_y -0.03171818f * w_x;\n",
      "tau_y = -0.03162278f * (o_x - o_x_des) -0.17195848f * theta -0.04591976f * v_x -0.03172359f * w_y;\n",
      "tau_z = -0.03162278f * psi -0.03164992f * w_z;\n",
      "f_z = -0.03162278f * (o_z - o_z_des) -0.05470132f * v_z + 0.30901500f;\n"
     ]
    }
   ],
   "source": [
    "#equivalent code in C\n",
    "export_controller(\n",
    "    K,               # the gain matrix\n",
    "    s,               # list of states as symbolic variables\n",
    "    i,               # list of inputs as symbolic variables\n",
    "    s_with_des,      # list of states that have desired values as symbolic variables\n",
    "    i_eq,            # list of equilibrium values of inputs\n",
    "    suffix='f',      # character to print after each number (indicates a \"float\")\n",
    "    line_ending=';'  # character to print after each line\n",
    ")"
   ]
  },
  {
   "cell_type": "code",
   "execution_count": 57,
   "id": "3356d155",
   "metadata": {},
   "outputs": [
    {
     "data": {
      "text/plain": [
       "12"
      ]
     },
     "execution_count": 57,
     "metadata": {},
     "output_type": "execute_result"
    }
   ],
   "source": [
    "np.linalg.matrix_rank(control.ctrb(A,B))"
   ]
  },
  {
   "cell_type": "code",
   "execution_count": 58,
   "id": "3d385587",
   "metadata": {},
   "outputs": [
    {
     "data": {
      "text/plain": [
       "(12, 12)"
      ]
     },
     "execution_count": 58,
     "metadata": {},
     "output_type": "execute_result"
    }
   ],
   "source": [
    "A.shape"
   ]
  },
  {
   "cell_type": "code",
   "execution_count": 60,
   "id": "b756ae43",
   "metadata": {},
   "outputs": [
    {
     "data": {
      "text/plain": [
       "(12, 4)"
      ]
     },
     "execution_count": 60,
     "metadata": {},
     "output_type": "execute_result"
    }
   ],
   "source": [
    "B.shape"
   ]
  },
  {
   "cell_type": "code",
   "execution_count": null,
   "id": "a2c7da46",
   "metadata": {},
   "outputs": [],
   "source": []
  },
  {
   "cell_type": "markdown",
   "id": "02242ecb",
   "metadata": {},
   "source": [
    "## Geometric control:\n",
    "    "
   ]
  },
  {
   "cell_type": "code",
   "execution_count": null,
   "id": "c0f6c494",
   "metadata": {},
   "outputs": [],
   "source": []
  },
  {
   "cell_type": "code",
   "execution_count": null,
   "id": "6e269a7c",
   "metadata": {},
   "outputs": [],
   "source": []
  },
  {
   "cell_type": "code",
   "execution_count": null,
   "id": "042f02cf",
   "metadata": {},
   "outputs": [],
   "source": []
  },
  {
   "cell_type": "code",
   "execution_count": null,
   "id": "38dc2f7f",
   "metadata": {},
   "outputs": [],
   "source": []
  }
 ],
 "metadata": {
  "kernelspec": {
   "display_name": "Python 3 (ipykernel)",
   "language": "python",
   "name": "python3"
  },
  "language_info": {
   "codemirror_mode": {
    "name": "ipython",
    "version": 3
   },
   "file_extension": ".py",
   "mimetype": "text/x-python",
   "name": "python",
   "nbconvert_exporter": "python",
   "pygments_lexer": "ipython3",
   "version": "3.9.6"
  }
 },
 "nbformat": 4,
 "nbformat_minor": 5
}
