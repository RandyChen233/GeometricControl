{
 "cells": [
  {
   "cell_type": "markdown",
   "id": "4ebc0d9a",
   "metadata": {},
   "source": [
    "# 0. Requirements"
   ]
  },
  {
   "cell_type": "markdown",
   "id": "3f2760c9",
   "metadata": {},
   "source": [
    "To run this notebook, start jupyter notebook with the ae483 environment active (see [MacOS](https://canvas.illinois.edu/courses/7116/modules/items/1230512) or [Windows](https://canvas.illinois.edu/courses/7116/modules/items/1270318) instructions for how to create this environment). If you want to record videos, then you will also need to add [imageio](https://urldefense.com/v3/__https://github.com/imageio/imageio__;!!DZ3fjg!tHae8f_Af7oMvCA0MmYNuVunTTZC10zS_qdW4imxODXD-6It6-9w7iBybXN0XjpX2K8$ ) and [imageio-ffmpeg](https://urldefense.com/v3/__https://github.com/imageio/imageio-ffmpeg__;!!DZ3fjg!tHae8f_Af7oMvCA0MmYNuVunTTZC10zS_qdW4imxODXD-6It6-9w7iBybXN02P5iNH4$ ) to this environment from a terminal (MacOS) or an anaconda powershell (Windows) before starting jupyter notebook, as follows:\n",
    "```\n",
    "pip install imageio\n",
    "pip install imageio-ffmpeg\n",
    "\n",
    "```\n",
    "You will only need to do this once."
   ]
  },
  {
   "cell_type": "code",
   "execution_count": 9,
   "id": "3720fedc",
   "metadata": {},
   "outputs": [
    {
     "name": "stdout",
     "output_type": "stream",
     "text": [
      "Collecting imageio\n",
      "  Downloading imageio-2.15.0-py3-none-any.whl (3.3 MB)\n",
      "Requirement already satisfied: numpy in d:\\softwares\\anaconda\\envs\\ae483\\lib\\site-packages (from imageio) (1.19.5)\n",
      "Requirement already satisfied: pillow>=8.3.2 in d:\\softwares\\anaconda\\envs\\ae483\\lib\\site-packages (from imageio) (8.4.0)\n",
      "Installing collected packages: imageio\n",
      "Successfully installed imageio-2.15.0\n",
      "Collecting imageio-ffmpeg\n",
      "  Downloading imageio_ffmpeg-0.4.5-py3-none-win_amd64.whl (22.6 MB)\n",
      "Installing collected packages: imageio-ffmpeg\n",
      "Successfully installed imageio-ffmpeg-0.4.5\n"
     ]
    }
   ],
   "source": [
    "!pip install imageio\n",
    "!pip install imageio-ffmpeg"
   ]
  },
  {
   "cell_type": "markdown",
   "id": "f4233d19",
   "metadata": {},
   "source": [
    "# 1. Set up the notebook"
   ]
  },
  {
   "cell_type": "markdown",
   "id": "38bcc561",
   "metadata": {},
   "source": [
    "Import all the modules we need."
   ]
  },
  {
   "cell_type": "code",
   "execution_count": 1,
   "id": "294d9f2d",
   "metadata": {},
   "outputs": [],
   "source": [
    "# These are standard modules\n",
    "import numpy as np\n",
    "import sympy as sym\n",
    "import matplotlib.pyplot as plt\n",
    "\n",
    "# This is a custom interface to the pybullet simulator\n",
    "import ae483_drone"
   ]
  },
  {
   "cell_type": "markdown",
   "id": "984b36e3",
   "metadata": {},
   "source": [
    "# 2. Start the simulator"
   ]
  },
  {
   "cell_type": "markdown",
   "id": "environmental-refrigerator",
   "metadata": {},
   "source": [
    "Create an instance of the `Simulator` class, which is an interface to the [pybullet](https://urldefense.com/v3/__http://pybullet.org__;!!DZ3fjg!tHae8f_Af7oMvCA0MmYNuVunTTZC10zS_qdW4imxODXD-6It6-9w7iBybXN0aPhrEl4$ ) simulation engine.\n",
    "\n",
    "There are three optional arguments:\n",
    "\n",
    "* `display` (`True` or `False`) is whether or not to show the simulation window - if you are recording videos or generating data, it is faster not to show the window;\n",
    "* `width` and `height` (positive integers) are the dimensions of the simulation window - these will also be the dimeensions of snapshots or videos that are generated.\n",
    "\n",
    "**You must evaluate this cell only *once*.** If you want to start fresh with a new simulator, you must do `Kernel -> Restart` from the notebook menu first. If you evaluate this cell more than once without a call to `Kernel -> Restart` then you may get strange behavior that is hard to debug. (If you would like to help eliminate this strange behavior - which is a consequence of issues with how pybullet interacts with MacOS - by contributing to the pybullet open-source project, contact [Prof. Bretl](mailto:tbretl@illinois.edu).)"
   ]
  },
  {
   "cell_type": "code",
   "execution_count": 2,
   "id": "needed-motion",
   "metadata": {},
   "outputs": [],
   "source": [
    "simulator = ae483_drone.Simulator(\n",
    "    display = True,\n",
    "    width = 640,\n",
    "    height = 480,\n",
    ")"
   ]
  },
  {
   "cell_type": "markdown",
   "id": "83a63688",
   "metadata": {},
   "source": [
    "# 3. Run experiments"
   ]
  },
  {
   "cell_type": "markdown",
   "id": "c2f93061",
   "metadata": {},
   "source": [
    "## 3.1 Flight test (template)\n",
    "\n",
    "Each time you duplicate this section, replace the title with a brief description of your current flight test."
   ]
  },
  {
   "cell_type": "markdown",
   "id": "0b4c3dac",
   "metadata": {},
   "source": [
    "### 3.1.1 Create a client"
   ]
  },
  {
   "cell_type": "markdown",
   "id": "264bfab0",
   "metadata": {},
   "source": [
    "The \"client\" specifies the desired position and yaw angle at a given time."
   ]
  },
  {
   "cell_type": "code",
   "execution_count": 3,
   "id": "ff588162",
   "metadata": {},
   "outputs": [],
   "source": [
    "class RobotClient:\n",
    "    def __init__(self):\n",
    "        pass\n",
    "    \n",
    "    def run(self, t):\n",
    "        o_x = 0.\n",
    "        o_y = 0.\n",
    "        o_z = 0.5\n",
    "        psi = 0.\n",
    "        \n",
    "        return {\n",
    "            'o_x': o_x,\n",
    "            'o_y': o_y,\n",
    "            'o_z': o_z,\n",
    "            'psi': psi,\n",
    "        }"
   ]
  },
  {
   "cell_type": "markdown",
   "id": "4e728ee2",
   "metadata": {},
   "source": [
    "### 3.1.2 Create a controller"
   ]
  },
  {
   "cell_type": "markdown",
   "id": "25c13a11",
   "metadata": {},
   "source": [
    "The \"controller\" specifies the motor power commands at a given state and setpoint."
   ]
  },
  {
   "cell_type": "code",
   "execution_count": 4,
   "id": "ca1c23f4",
   "metadata": {},
   "outputs": [],
   "source": [
    "class RobotController:\n",
    "    def __init__(self):\n",
    "        pass\n",
    "\n",
    "    def limitUint16(self, m):\n",
    "        \"\"\"\n",
    "        This function returns the closest integer to \"m\" in the\n",
    "        range [0, 65535]. It is called \"limitUint16\" because an\n",
    "        \"unsigned 16-bit integer\" is limited to this range.\n",
    "        \"\"\"\n",
    "        m = np.round(m, decimals=0)\n",
    "        if m < 0:\n",
    "            m = 0\n",
    "        elif m > 65535:\n",
    "            m = 65535\n",
    "        return m\n",
    "\n",
    "    def run(self, state, setpoint):\n",
    "        # Parse state\n",
    "        o_x = state['o_x']\n",
    "        o_y = state['o_y']\n",
    "        o_z = state['o_z']\n",
    "        psi = state['psi']\n",
    "        theta = state['theta']\n",
    "        phi = state['phi']\n",
    "        v_x = state['v_x']\n",
    "        v_y = state['v_y']\n",
    "        v_z = state['v_z']\n",
    "        w_x = state['w_x']\n",
    "        w_y = state['w_y']\n",
    "        w_z = state['w_z']\n",
    "        \n",
    "        # Parse setpoint\n",
    "        o_x_des = setpoint['o_x']\n",
    "        o_y_des = setpoint['o_y']\n",
    "        o_z_des = setpoint['o_z']\n",
    "        \n",
    "        # Add code here to compute net torques and net force\n",
    "        tau_x = 1.00000000 * (o_y - o_y_des) -5.42969713 * phi + 1.45154121 * v_y -1.00009541 * w_x\n",
    "        tau_y = -1.00000000 * (o_x - o_x_des) -5.42971134 * theta -1.45154221 * v_x -1.00010082 * w_y\n",
    "        tau_z = -1.00000000 * psi -1.00002716 * w_z\n",
    "        f_z = -1.00000000 * (o_z - o_z_des) -1.03101891 * v_z + 0.30901500\n",
    "        \n",
    "        # FIXME: Replace code here to compute motor power commands\n",
    "        m_1 = self.limitUint16( -2723239.3 * tau_x -2723239.3 * tau_y -41266282.1 * tau_z + 127992.2 * f_z )\n",
    "        m_2 = self.limitUint16( -2723239.3 * tau_x + 2723239.3 * tau_y + 41266282.1 * tau_z + 127992.2 * f_z )\n",
    "        m_3 = self.limitUint16( 2723239.3 * tau_x + 2723239.3 * tau_y -41266282.1 * tau_z + 127992.2 * f_z )\n",
    "        m_4 = self.limitUint16( 2723239.3 * tau_x -2723239.3 * tau_y + 41266282.1 * tau_z + 127992.2 * f_z )\n",
    "        \n",
    "        return m_1, m_2, m_3, m_4"
   ]
  },
  {
   "cell_type": "markdown",
   "id": "9a8fd0d1",
   "metadata": {},
   "source": [
    "### 3.1.3 Add a drone with this client and controller to the simulator"
   ]
  },
  {
   "cell_type": "markdown",
   "id": "9aa4239b",
   "metadata": {},
   "source": [
    "Remove all existing drones from the simulator."
   ]
  },
  {
   "cell_type": "code",
   "execution_count": 5,
   "id": "32cf78f4",
   "metadata": {},
   "outputs": [],
   "source": [
    "simulator.clear_drones()"
   ]
  },
  {
   "cell_type": "markdown",
   "id": "f41c0257",
   "metadata": {},
   "source": [
    "Add a new drone to the simulator.\n",
    "\n",
    "There are three required arguments:\n",
    "\n",
    "* the name of the drone (a string), for example `my_drone`\n",
    "* the class that defines the client, for example `RobotClient`\n",
    "* the class that defines the controller, for example `RobotController`\n",
    "\n",
    "There is one optional argument that allows you to change the appearance of the drone (if you want) - this is useful if you simulate more than one drone at a time:\n",
    "\n",
    "* `rgba` is a list of four numbers between 0 and 1 (red, green, blue, alpha) that define an [RGBA color](https://urldefense.com/v3/__https://en.wikipedia.org/wiki/RGBA_color_model)*5Cn__;JQ!!DZ3fjg!tHae8f_Af7oMvCA0MmYNuVunTTZC10zS_qdW4imxODXD-6It6-9w7iBybXN0GMI6Ftw$ \n",
    "There are eight optional arguments that allow you to change the physical parameters that govern the drone (mass, moments of inertia, and so forth). You **must** change the values of these arguments if you want the simulated drone to match your real drone.\n",
    "\n",
    "* `m`, `J_x`, `J_y`, `J_z`, `g`, `l`, `k_F`, `k_M` are scalar parameters"
   ]
  },
  {
   "cell_type": "code",
   "execution_count": 6,
   "id": "6e177797",
   "metadata": {},
   "outputs": [],
   "source": [
    "simulator.add_drone(\n",
    "    'my_drone',\n",
    "    RobotClient,\n",
    "    RobotController,\n",
    "    rgba = [1., 0., 1., 1.],\n",
    "    m = 0.0315,\n",
    "    J_x = 1.7572149113694408e-05,\n",
    "    J_y = 1.856979710568617e-05,\n",
    "    J_z = 2.7159794713754086e-05,\n",
    "    g = 9.81,\n",
    "    l = 0.047,\n",
    "    k_F = 1.953243284426876e-06,\n",
    "    k_M = 6.0582147794984354e-09,\n",
    ")"
   ]
  },
  {
   "cell_type": "markdown",
   "id": "4e0ccb17",
   "metadata": {},
   "source": [
    "Set the initial state of this drone. Here, as an example, we start the drone near the desired position that was specified by the client."
   ]
  },
  {
   "cell_type": "code",
   "execution_count": 7,
   "id": "d1e4ad5e",
   "metadata": {},
   "outputs": [],
   "source": [
    "simulator.set_state(\n",
    "    'my_drone',\n",
    "    {\n",
    "        'o_x': 0.01,\n",
    "        'o_y': -0.02,\n",
    "        'o_z': 0.27,\n",
    "        'psi': 0.,\n",
    "        'theta': 0.,\n",
    "        'phi': 0.,\n",
    "        'v_x': 0.,\n",
    "        'v_y': 0.,\n",
    "        'v_z': 0.,\n",
    "        'w_x': 0.,\n",
    "        'w_y': 0.,\n",
    "        'w_z': 0.,\n",
    "    },\n",
    ")"
   ]
  },
  {
   "cell_type": "markdown",
   "id": "f466ccdf",
   "metadata": {},
   "source": [
    "You could repeat this process to add more drones, if you want to test more than one client and controller (or more than one initial state) at a time."
   ]
  },
  {
   "cell_type": "markdown",
   "id": "2c76d650",
   "metadata": {},
   "source": [
    "### 3.1.4 Set the camera view (optional)"
   ]
  },
  {
   "cell_type": "markdown",
   "id": "ada45b3b",
   "metadata": {},
   "source": [
    "Here is how to make the camera always look at a certain point (in this case, a point that is 0.3 meters above the origin of the world frame):"
   ]
  },
  {
   "cell_type": "code",
   "execution_count": 8,
   "id": "b8f1b67c",
   "metadata": {},
   "outputs": [],
   "source": [
    "simulator.set_camera_target([0.0, 0.0, 0.3])"
   ]
  },
  {
   "cell_type": "markdown",
   "id": "4ca943a7",
   "metadata": {},
   "source": [
    "Here is how to make the camera always look at a certain drone (in this case, the one called `my_drone`):"
   ]
  },
  {
   "cell_type": "code",
   "execution_count": 9,
   "id": "30671698",
   "metadata": {},
   "outputs": [],
   "source": [
    "simulator.set_camera_target('my_drone')"
   ]
  },
  {
   "cell_type": "markdown",
   "id": "d85d9ae5",
   "metadata": {},
   "source": [
    "Here is how to get a top view:"
   ]
  },
  {
   "cell_type": "code",
   "execution_count": 10,
   "id": "ca33465f",
   "metadata": {},
   "outputs": [],
   "source": [
    "simulator.camera_topview()"
   ]
  },
  {
   "cell_type": "markdown",
   "id": "b711f09e",
   "metadata": {},
   "source": [
    "Here is how to get a side view:"
   ]
  },
  {
   "cell_type": "code",
   "execution_count": 11,
   "id": "a4e4f8b4",
   "metadata": {},
   "outputs": [],
   "source": [
    "simulator.camera_sideview()"
   ]
  },
  {
   "cell_type": "markdown",
   "id": "a681eb2b",
   "metadata": {},
   "source": [
    "Here is how to change the yaw angle of the camera (i.e., to make the camera rotate about the point it is looking at):"
   ]
  },
  {
   "cell_type": "code",
   "execution_count": 12,
   "id": "863f6104",
   "metadata": {},
   "outputs": [],
   "source": [
    "simulator.set_camera_yaw(45)"
   ]
  },
  {
   "cell_type": "markdown",
   "id": "8a9b1e02",
   "metadata": {},
   "source": [
    "Here is how to change the distance between the camera and the point it is looking at:"
   ]
  },
  {
   "cell_type": "code",
   "execution_count": 13,
   "id": "5f380fe7",
   "metadata": {},
   "outputs": [],
   "source": [
    "simulator.set_camera_distance(1.0)"
   ]
  },
  {
   "cell_type": "markdown",
   "id": "681aec5d",
   "metadata": {},
   "source": [
    "### 3.1.5 Run the simulator"
   ]
  },
  {
   "cell_type": "markdown",
   "id": "67195bdc",
   "metadata": {},
   "source": [
    "Here is how to run the simulator for 10 seconds while saving data to the file `simulation_x_data.json` and saving video to the file `simulation_x_video.json`.\n",
    "\n",
    "If you do not need to save video and want this to run much faster, then specify `video_filename=None`."
   ]
  },
  {
   "cell_type": "code",
   "execution_count": 8,
   "id": "f8526f69",
   "metadata": {},
   "outputs": [
    {
     "ename": "ModuleNotFoundError",
     "evalue": "No module named 'imageio'",
     "output_type": "error",
     "traceback": [
      "\u001b[1;31m---------------------------------------------------------------------------\u001b[0m",
      "\u001b[1;31mModuleNotFoundError\u001b[0m                       Traceback (most recent call last)",
      "\u001b[1;32m~\\AppData\\Local\\Temp/ipykernel_2584/3025597661.py\u001b[0m in \u001b[0;36m<module>\u001b[1;34m\u001b[0m\n\u001b[1;32m----> 1\u001b[1;33m simulator.run(\n\u001b[0m\u001b[0;32m      2\u001b[0m     \u001b[0mmax_time\u001b[0m \u001b[1;33m=\u001b[0m \u001b[1;36m10.\u001b[0m\u001b[1;33m,\u001b[0m\u001b[1;33m\u001b[0m\u001b[1;33m\u001b[0m\u001b[0m\n\u001b[0;32m      3\u001b[0m     \u001b[0mdata_filename\u001b[0m \u001b[1;33m=\u001b[0m \u001b[1;34m'simulation_1_data.json'\u001b[0m\u001b[1;33m,\u001b[0m\u001b[1;33m\u001b[0m\u001b[1;33m\u001b[0m\u001b[0m\n\u001b[0;32m      4\u001b[0m     \u001b[0mvideo_filename\u001b[0m \u001b[1;33m=\u001b[0m \u001b[1;34m'simulation_1_video.mov'\u001b[0m\u001b[1;33m,\u001b[0m\u001b[1;33m\u001b[0m\u001b[1;33m\u001b[0m\u001b[0m\n\u001b[0;32m      5\u001b[0m     \u001b[1;31m#video_filename = None,\u001b[0m\u001b[1;33m\u001b[0m\u001b[1;33m\u001b[0m\u001b[1;33m\u001b[0m\u001b[0m\n",
      "\u001b[1;32m~\\Documents\\projects\\AdvancedControlsLab\\L1 adaptive+geometric\\ae483_drone.py\u001b[0m in \u001b[0;36mrun\u001b[1;34m(self, max_time, data_filename, video_filename)\u001b[0m\n\u001b[0;32m    332\u001b[0m         \u001b[1;32mif\u001b[0m \u001b[0mvideo_filename\u001b[0m \u001b[1;32mis\u001b[0m \u001b[1;32mnot\u001b[0m \u001b[1;32mNone\u001b[0m\u001b[1;33m:\u001b[0m\u001b[1;33m\u001b[0m\u001b[1;33m\u001b[0m\u001b[0m\n\u001b[0;32m    333\u001b[0m             \u001b[1;31m# Import imageio\u001b[0m\u001b[1;33m\u001b[0m\u001b[1;33m\u001b[0m\u001b[1;33m\u001b[0m\u001b[0m\n\u001b[1;32m--> 334\u001b[1;33m             \u001b[0mimageio\u001b[0m \u001b[1;33m=\u001b[0m \u001b[0mimportlib\u001b[0m\u001b[1;33m.\u001b[0m\u001b[0mimport_module\u001b[0m\u001b[1;33m(\u001b[0m\u001b[1;34m'imageio'\u001b[0m\u001b[1;33m)\u001b[0m\u001b[1;33m\u001b[0m\u001b[1;33m\u001b[0m\u001b[0m\n\u001b[0m\u001b[0;32m    335\u001b[0m \u001b[1;33m\u001b[0m\u001b[0m\n\u001b[0;32m    336\u001b[0m             \u001b[1;31m# Open video\u001b[0m\u001b[1;33m\u001b[0m\u001b[1;33m\u001b[0m\u001b[1;33m\u001b[0m\u001b[0m\n",
      "\u001b[1;32mD:\\Softwares\\Anaconda\\envs\\ae483\\lib\\importlib\\__init__.py\u001b[0m in \u001b[0;36mimport_module\u001b[1;34m(name, package)\u001b[0m\n\u001b[0;32m    125\u001b[0m                 \u001b[1;32mbreak\u001b[0m\u001b[1;33m\u001b[0m\u001b[1;33m\u001b[0m\u001b[0m\n\u001b[0;32m    126\u001b[0m             \u001b[0mlevel\u001b[0m \u001b[1;33m+=\u001b[0m \u001b[1;36m1\u001b[0m\u001b[1;33m\u001b[0m\u001b[1;33m\u001b[0m\u001b[0m\n\u001b[1;32m--> 127\u001b[1;33m     \u001b[1;32mreturn\u001b[0m \u001b[0m_bootstrap\u001b[0m\u001b[1;33m.\u001b[0m\u001b[0m_gcd_import\u001b[0m\u001b[1;33m(\u001b[0m\u001b[0mname\u001b[0m\u001b[1;33m[\u001b[0m\u001b[0mlevel\u001b[0m\u001b[1;33m:\u001b[0m\u001b[1;33m]\u001b[0m\u001b[1;33m,\u001b[0m \u001b[0mpackage\u001b[0m\u001b[1;33m,\u001b[0m \u001b[0mlevel\u001b[0m\u001b[1;33m)\u001b[0m\u001b[1;33m\u001b[0m\u001b[1;33m\u001b[0m\u001b[0m\n\u001b[0m\u001b[0;32m    128\u001b[0m \u001b[1;33m\u001b[0m\u001b[0m\n\u001b[0;32m    129\u001b[0m \u001b[1;33m\u001b[0m\u001b[0m\n",
      "\u001b[1;32mD:\\Softwares\\Anaconda\\envs\\ae483\\lib\\importlib\\_bootstrap.py\u001b[0m in \u001b[0;36m_gcd_import\u001b[1;34m(name, package, level)\u001b[0m\n",
      "\u001b[1;32mD:\\Softwares\\Anaconda\\envs\\ae483\\lib\\importlib\\_bootstrap.py\u001b[0m in \u001b[0;36m_find_and_load\u001b[1;34m(name, import_)\u001b[0m\n",
      "\u001b[1;32mD:\\Softwares\\Anaconda\\envs\\ae483\\lib\\importlib\\_bootstrap.py\u001b[0m in \u001b[0;36m_find_and_load_unlocked\u001b[1;34m(name, import_)\u001b[0m\n",
      "\u001b[1;31mModuleNotFoundError\u001b[0m: No module named 'imageio'"
     ]
    }
   ],
   "source": [
    "simulator.run(\n",
    "    max_time = 10.,\n",
    "    data_filename = 'simulation_1_data.json',\n",
    "    video_filename = 'simulation_1_video.mov',\n",
    "    #video_filename = None,\n",
    ")"
   ]
  },
  {
   "cell_type": "markdown",
   "id": "28db6c97",
   "metadata": {},
   "source": [
    "Be careful! Both the data file and the video file will be overwritten if they already exist. We suggest you use a different name for each experiment."
   ]
  },
  {
   "cell_type": "markdown",
   "id": "ed46058a",
   "metadata": {},
   "source": [
    "## 3.2 Flight test (template)\n",
    "\n",
    "Each time you duplicate this section, replace the title with a brief description of your current flight test."
   ]
  },
  {
   "cell_type": "markdown",
   "id": "2d214070",
   "metadata": {},
   "source": [
    "### 3.2.1 Create a client"
   ]
  },
  {
   "cell_type": "markdown",
   "id": "b67ae383",
   "metadata": {},
   "source": [
    "The \"client\" specifies the desired position and yaw angle at a given time."
   ]
  },
  {
   "cell_type": "code",
   "execution_count": 15,
   "id": "ba80ab62",
   "metadata": {},
   "outputs": [],
   "source": [
    "class RobotClient:\n",
    "    def __init__(self):\n",
    "        pass\n",
    "    \n",
    "    def run(self, t):\n",
    "        o_x = 0.\n",
    "        o_y = 0.\n",
    "        o_z = 0.3\n",
    "        psi = 0.\n",
    "        \n",
    "        return {\n",
    "            'o_x': o_x,\n",
    "            'o_y': o_y,\n",
    "            'o_z': o_z,\n",
    "            'psi': psi,\n",
    "        }"
   ]
  },
  {
   "cell_type": "markdown",
   "id": "73823569",
   "metadata": {},
   "source": [
    "### 3.2.2 Create a controller"
   ]
  },
  {
   "cell_type": "markdown",
   "id": "5102265e",
   "metadata": {},
   "source": [
    "The \"controller\" specifies the motor power commands at a given state and setpoint."
   ]
  },
  {
   "cell_type": "code",
   "execution_count": 16,
   "id": "2ec23421",
   "metadata": {},
   "outputs": [],
   "source": [
    "class RobotController:\n",
    "    def __init__(self):\n",
    "        pass\n",
    "\n",
    "    def limitUint16(self, m):\n",
    "        \"\"\"\n",
    "        This function returns the closest integer to \"m\" in the\n",
    "        range [0, 65535]. It is called \"limitUint16\" because an\n",
    "        \"unsigned 16-bit integer\" is limited to this range.\n",
    "        \"\"\"\n",
    "        m = np.round(m, decimals=0)\n",
    "        if m < 0:\n",
    "            m = 0\n",
    "        elif m > 65535:\n",
    "            m = 65535\n",
    "        return m\n",
    "\n",
    "    def run(self, state, setpoint):\n",
    "        # Parse state\n",
    "        o_x = state['o_x']\n",
    "        o_y = state['o_y']\n",
    "        o_z = state['o_z']\n",
    "        psi = state['psi']\n",
    "        theta = state['theta']\n",
    "        phi = state['phi']\n",
    "        v_x = state['v_x']\n",
    "        v_y = state['v_y']\n",
    "        v_z = state['v_z']\n",
    "        w_x = state['w_x']\n",
    "        w_y = state['w_y']\n",
    "        w_z = state['w_z']\n",
    "        \n",
    "        # Parse setpoint\n",
    "        o_x_des = setpoint['o_x']\n",
    "        o_y_des = setpoint['o_y']\n",
    "        o_z_des = setpoint['o_z']\n",
    "        \n",
    "        # Add code here to compute net torques and net force\n",
    "        tau_x = 0.03162278 * (o_y - o_y_des) -0.17194428 * phi + 0.04591877 * v_y -0.03171818 * w_x\n",
    "        tau_y = -0.03162278 * (o_x - o_x_des) -0.17195848 * theta -0.04591976 * v_x -0.03172359 * w_y\n",
    "        tau_z = -0.03162278 * psi -0.03164992 * w_z\n",
    "        f_z = -0.03162278 * (o_z - o_z_des) -0.05470132 * v_z + 0.30901500\n",
    "        \n",
    "        # FIXME: Replace code here to compute motor power commands\n",
    "        m_1 = self.limitUint16( -2723239.3 * tau_x -2723239.3 * tau_y -41266282.1 * tau_z + 127992.2 * f_z )\n",
    "        m_2 = self.limitUint16( -2723239.3 * tau_x + 2723239.3 * tau_y + 41266282.1 * tau_z + 127992.2 * f_z )\n",
    "        m_3 = self.limitUint16( 2723239.3 * tau_x + 2723239.3 * tau_y -41266282.1 * tau_z + 127992.2 * f_z )\n",
    "        m_4 = self.limitUint16( 2723239.3 * tau_x -2723239.3 * tau_y + 41266282.1 * tau_z + 127992.2 * f_z )\n",
    "        \n",
    "        return m_1, m_2, m_3, m_4"
   ]
  },
  {
   "cell_type": "markdown",
   "id": "ba845728",
   "metadata": {},
   "source": [
    "### 3.2.3 Add a drone with this client and controller to the simulator"
   ]
  },
  {
   "cell_type": "markdown",
   "id": "4eb9e1c5",
   "metadata": {},
   "source": [
    "Remove all existing drones from the simulator."
   ]
  },
  {
   "cell_type": "code",
   "execution_count": 17,
   "id": "16e3985b",
   "metadata": {},
   "outputs": [],
   "source": [
    "simulator.clear_drones()"
   ]
  },
  {
   "cell_type": "markdown",
   "id": "72453176",
   "metadata": {},
   "source": [
    "Add a new drone to the simulator.\n",
    "\n",
    "There are three required arguments:\n",
    "\n",
    "* the name of the drone (a string), for example `my_drone`\n",
    "* the class that defines the client, for example `RobotClient`\n",
    "* the class that defines the controller, for example `RobotController`\n",
    "\n",
    "There is one optional argument that allows you to change the appearance of the drone (if you want) - this is useful if you simulate more than one drone at a time:\n",
    "\n",
    "* `rgba` is a list of four numbers between 0 and 1 (red, green, blue, alpha) that define an [RGBA color](https://urldefense.com/v3/__https://en.wikipedia.org/wiki/RGBA_color_model)*5Cn__;JQ!!DZ3fjg!tHae8f_Af7oMvCA0MmYNuVunTTZC10zS_qdW4imxODXD-6It6-9w7iBybXN0GMI6Ftw$ \n",
    "There are eight optional arguments that allow you to change the physical parameters that govern the drone (mass, moments of inertia, and so forth). You **must** change the values of these arguments if you want the simulated drone to match your real drone.\n",
    "\n",
    "* `m`, `J_x`, `J_y`, `J_z`, `g`, `l`, `k_F`, `k_M` are scalar parameters"
   ]
  },
  {
   "cell_type": "code",
   "execution_count": 18,
   "id": "0d914587",
   "metadata": {},
   "outputs": [],
   "source": [
    "simulator.add_drone(\n",
    "    'my_drone',\n",
    "    RobotClient,\n",
    "    RobotController,\n",
    "    rgba = [1., 0., 1., 1.],\n",
    "    m = 0.0315,\n",
    "    J_x = 1.7572149113694408e-05,\n",
    "    J_y = 1.856979710568617e-05,\n",
    "    J_z = 2.7159794713754086e-05,\n",
    "    g = 9.81,\n",
    "    l = 0.047,\n",
    "    k_F = 1.953243284426876e-06,\n",
    "    k_M = 6.0582147794984354e-09,\n",
    ")"
   ]
  },
  {
   "cell_type": "markdown",
   "id": "4f2e7aa9",
   "metadata": {},
   "source": [
    "Set the initial state of this drone. Here, as an example, we start the drone near the desired position that was specified by the client."
   ]
  },
  {
   "cell_type": "code",
   "execution_count": 19,
   "id": "6982c7d2",
   "metadata": {},
   "outputs": [],
   "source": [
    "simulator.set_state(\n",
    "    'my_drone',\n",
    "    {\n",
    "        'o_x': 0.01,\n",
    "        'o_y': -0.02,\n",
    "        'o_z': 0.27,\n",
    "        'psi': 0.,\n",
    "        'theta': 0.,\n",
    "        'phi': 0.,\n",
    "        'v_x': 0.,\n",
    "        'v_y': 0.,\n",
    "        'v_z': 0.,\n",
    "        'w_x': 0.,\n",
    "        'w_y': 0.,\n",
    "        'w_z': 0.,\n",
    "    },\n",
    ")"
   ]
  },
  {
   "cell_type": "markdown",
   "id": "4117c547",
   "metadata": {},
   "source": [
    "You could repeat this process to add more drones, if you want to test more than one client and controller (or more than one initial state) at a time."
   ]
  },
  {
   "cell_type": "markdown",
   "id": "de5ead4f",
   "metadata": {},
   "source": [
    "### 3.2.4 Set the camera view (optional)"
   ]
  },
  {
   "cell_type": "markdown",
   "id": "eb998a33",
   "metadata": {},
   "source": [
    "Here is how to make the camera always look at a certain point (in this case, a point that is 0.3 meters above the origin of the world frame):"
   ]
  },
  {
   "cell_type": "code",
   "execution_count": 20,
   "id": "d550a408",
   "metadata": {},
   "outputs": [],
   "source": [
    "simulator.set_camera_target([0.0, 0.0, 0.3])"
   ]
  },
  {
   "cell_type": "markdown",
   "id": "ae0d1a29",
   "metadata": {},
   "source": [
    "Here is how to make the camera always look at a certain drone (in this case, the one called `my_drone`):"
   ]
  },
  {
   "cell_type": "code",
   "execution_count": 21,
   "id": "aeb029c1",
   "metadata": {},
   "outputs": [],
   "source": [
    "simulator.set_camera_target('my_drone')"
   ]
  },
  {
   "cell_type": "markdown",
   "id": "2202d9e5",
   "metadata": {},
   "source": [
    "Here is how to get a top view:"
   ]
  },
  {
   "cell_type": "code",
   "execution_count": 22,
   "id": "1d12529e",
   "metadata": {},
   "outputs": [],
   "source": [
    "simulator.camera_topview()"
   ]
  },
  {
   "cell_type": "markdown",
   "id": "4b5f0087",
   "metadata": {},
   "source": [
    "Here is how to get a side view:"
   ]
  },
  {
   "cell_type": "code",
   "execution_count": 23,
   "id": "48495982",
   "metadata": {},
   "outputs": [],
   "source": [
    "simulator.camera_sideview()"
   ]
  },
  {
   "cell_type": "markdown",
   "id": "b10c4c2a",
   "metadata": {},
   "source": [
    "Here is how to change the yaw angle of the camera (i.e., to make the camera rotate about the point it is looking at):"
   ]
  },
  {
   "cell_type": "code",
   "execution_count": 24,
   "id": "84da3b40",
   "metadata": {},
   "outputs": [],
   "source": [
    "simulator.set_camera_yaw(45)"
   ]
  },
  {
   "cell_type": "markdown",
   "id": "63c3e1e3",
   "metadata": {},
   "source": [
    "Here is how to change the distance between the camera and the point it is looking at:"
   ]
  },
  {
   "cell_type": "code",
   "execution_count": 25,
   "id": "3a7b191c",
   "metadata": {},
   "outputs": [],
   "source": [
    "simulator.set_camera_distance(1.0)"
   ]
  },
  {
   "cell_type": "markdown",
   "id": "ed2de5eb",
   "metadata": {},
   "source": [
    "### 3.2.5 Run the simulator"
   ]
  },
  {
   "cell_type": "markdown",
   "id": "97513f27",
   "metadata": {},
   "source": [
    "Here is how to run the simulator for 10 seconds while saving data to the file `simulation_x_data.json` and saving video to the file `simulation_x_video.json`.\n",
    "\n",
    "If you do not need to save video and want this to run much faster, then specify `video_filename=None`."
   ]
  },
  {
   "cell_type": "code",
   "execution_count": 26,
   "id": "4701e7c8",
   "metadata": {
    "scrolled": true
   },
   "outputs": [
    {
     "name": "stdout",
     "output_type": "stream",
     "text": [
      "Creating a video with name simulation_2_video.mov and fps 100\n",
      " 100 / 1000\n",
      " 200 / 1000\n",
      " 300 / 1000\n",
      " 400 / 1000\n",
      " 500 / 1000\n",
      " 600 / 1000\n",
      " 700 / 1000\n",
      " 800 / 1000\n",
      " 900 / 1000\n",
      " 1000 / 1000\n",
      "Completed 1000 time steps in 75.7897 seconds (13.1944 time steps per second)\n"
     ]
    }
   ],
   "source": [
    "simulator.run(\n",
    "    max_time = 10.,\n",
    "    data_filename = 'simulation_2_data.json',\n",
    "    video_filename = 'simulation_2_video.mov',\n",
    "    #video_filename = None,\n",
    ")"
   ]
  },
  {
   "cell_type": "markdown",
   "id": "0ad005cd",
   "metadata": {},
   "source": [
    "Be careful! Both the data file and the video file will be overwritten if they already exist. We suggest you use a different name for each experiment."
   ]
  },
  {
   "cell_type": "markdown",
   "id": "5f599be7",
   "metadata": {},
   "source": [
    "## 3.3 Flight test (template)\n",
    "\n",
    "Each time you duplicate this section, replace the title with a brief description of your current flight test."
   ]
  },
  {
   "cell_type": "markdown",
   "id": "e829ceb4",
   "metadata": {},
   "source": [
    "### 3.3.1 Create a client"
   ]
  },
  {
   "cell_type": "markdown",
   "id": "e4778ca6",
   "metadata": {},
   "source": [
    "The \"client\" specifies the desired position and yaw angle at a given time."
   ]
  },
  {
   "cell_type": "code",
   "execution_count": 27,
   "id": "61e39381",
   "metadata": {},
   "outputs": [],
   "source": [
    "class RobotClient:\n",
    "    def __init__(self):\n",
    "        pass\n",
    "    \n",
    "    def run(self, t):\n",
    "        o_x = 0.\n",
    "        o_y = 0.\n",
    "        o_z = 0.3\n",
    "        psi = 0.\n",
    "        \n",
    "        return {\n",
    "            'o_x': o_x,\n",
    "            'o_y': o_y,\n",
    "            'o_z': o_z,\n",
    "            'psi': psi,\n",
    "        }"
   ]
  },
  {
   "cell_type": "markdown",
   "id": "9da5e1cf",
   "metadata": {},
   "source": [
    "### 3.2.2 Create a controller"
   ]
  },
  {
   "cell_type": "markdown",
   "id": "e3be4f9a",
   "metadata": {},
   "source": [
    "The \"controller\" specifies the motor power commands at a given state and setpoint."
   ]
  },
  {
   "cell_type": "code",
   "execution_count": 28,
   "id": "bc56279c",
   "metadata": {},
   "outputs": [],
   "source": [
    "class RobotController:\n",
    "    def __init__(self):\n",
    "        pass\n",
    "\n",
    "    def limitUint16(self, m):\n",
    "        \"\"\"\n",
    "        This function returns the closest integer to \"m\" in the\n",
    "        range [0, 65535]. It is called \"limitUint16\" because an\n",
    "        \"unsigned 16-bit integer\" is limited to this range.\n",
    "        \"\"\"\n",
    "        m = np.round(m, decimals=0)\n",
    "        if m < 0:\n",
    "            m = 0\n",
    "        elif m > 65535:\n",
    "            m = 65535\n",
    "        return m\n",
    "\n",
    "    def run(self, state, setpoint):\n",
    "        # Parse state\n",
    "        o_x = state['o_x']\n",
    "        o_y = state['o_y']\n",
    "        o_z = state['o_z']\n",
    "        psi = state['psi']\n",
    "        theta = state['theta']\n",
    "        phi = state['phi']\n",
    "        v_x = state['v_x']\n",
    "        v_y = state['v_y']\n",
    "        v_z = state['v_z']\n",
    "        w_x = state['w_x']\n",
    "        w_y = state['w_y']\n",
    "        w_z = state['w_z']\n",
    "        \n",
    "        # Parse setpoint\n",
    "        o_x_des = setpoint['o_x']\n",
    "        o_y_des = setpoint['o_y']\n",
    "        o_z_des = setpoint['o_z']\n",
    "        \n",
    "        # Add code here to compute net torques and net force\n",
    "        tau_x = 0.00100000 * (o_y - o_y_des) -0.00567583 * phi + 0.00146872 * v_y -0.00109520 * w_x\n",
    "        tau_y = -0.00100000 * (o_x - o_x_des) -0.00568959 * theta -0.00146968 * v_x -0.00110059 * w_y\n",
    "        tau_z = -0.00100000 * psi -0.00102680 * w_z\n",
    "        f_z = -0.00100000 * (o_z - o_z_des) -0.00800000 * v_z + 0.30901500\n",
    "        \n",
    "        # FIXME: Replace code here to compute motor power commands\n",
    "        m_1 = self.limitUint16( -2723239.3 * tau_x -2723239.3 * tau_y -41266282.1 * tau_z + 127992.2 * f_z )\n",
    "        m_2 = self.limitUint16( -2723239.3 * tau_x + 2723239.3 * tau_y + 41266282.1 * tau_z + 127992.2 * f_z )\n",
    "        m_3 = self.limitUint16( 2723239.3 * tau_x + 2723239.3 * tau_y -41266282.1 * tau_z + 127992.2 * f_z )\n",
    "        m_4 = self.limitUint16( 2723239.3 * tau_x -2723239.3 * tau_y + 41266282.1 * tau_z + 127992.2 * f_z )\n",
    "        \n",
    "        return m_1, m_2, m_3, m_4"
   ]
  },
  {
   "cell_type": "markdown",
   "id": "0d7ebadc",
   "metadata": {},
   "source": [
    "### 3.3.3 Add a drone with this client and controller to the simulator"
   ]
  },
  {
   "cell_type": "markdown",
   "id": "95af189a",
   "metadata": {},
   "source": [
    "Remove all existing drones from the simulator."
   ]
  },
  {
   "cell_type": "code",
   "execution_count": 29,
   "id": "758bad83",
   "metadata": {},
   "outputs": [],
   "source": [
    "simulator.clear_drones()"
   ]
  },
  {
   "cell_type": "markdown",
   "id": "abda5434",
   "metadata": {},
   "source": [
    "Add a new drone to the simulator.\n",
    "\n",
    "There are three required arguments:\n",
    "\n",
    "* the name of the drone (a string), for example `my_drone`\n",
    "* the class that defines the client, for example `RobotClient`\n",
    "* the class that defines the controller, for example `RobotController`\n",
    "\n",
    "There is one optional argument that allows you to change the appearance of the drone (if you want) - this is useful if you simulate more than one drone at a time:\n",
    "\n",
    "* `rgba` is a list of four numbers between 0 and 1 (red, green, blue, alpha) that define an [RGBA color](https://urldefense.com/v3/__https://en.wikipedia.org/wiki/RGBA_color_model)*5Cn__;JQ!!DZ3fjg!tHae8f_Af7oMvCA0MmYNuVunTTZC10zS_qdW4imxODXD-6It6-9w7iBybXN0GMI6Ftw$ \n",
    "There are eight optional arguments that allow you to change the physical parameters that govern the drone (mass, moments of inertia, and so forth). You **must** change the values of these arguments if you want the simulated drone to match your real drone.\n",
    "\n",
    "* `m`, `J_x`, `J_y`, `J_z`, `g`, `l`, `k_F`, `k_M` are scalar parameters"
   ]
  },
  {
   "cell_type": "code",
   "execution_count": 30,
   "id": "fef041e3",
   "metadata": {},
   "outputs": [],
   "source": [
    "simulator.add_drone(\n",
    "    'my_drone',\n",
    "    RobotClient,\n",
    "    RobotController,\n",
    "    rgba = [1., 0., 1., 1.],\n",
    "    m = 0.0315,\n",
    "    J_x = 1.7572149113694408e-05,\n",
    "    J_y = 1.856979710568617e-05,\n",
    "    J_z = 2.7159794713754086e-05,\n",
    "    g = 9.81,\n",
    "    l = 0.047,\n",
    "    k_F = 1.953243284426876e-06,\n",
    "    k_M = 6.0582147794984354e-09,\n",
    ")"
   ]
  },
  {
   "cell_type": "markdown",
   "id": "8c25c054",
   "metadata": {},
   "source": [
    "Set the initial state of this drone. Here, as an example, we start the drone near the desired position that was specified by the client."
   ]
  },
  {
   "cell_type": "code",
   "execution_count": 31,
   "id": "3080f8ce",
   "metadata": {},
   "outputs": [],
   "source": [
    "simulator.set_state(\n",
    "    'my_drone',\n",
    "    {\n",
    "        'o_x': 0.01,\n",
    "        'o_y': -0.02,\n",
    "        'o_z': 0.27,\n",
    "        'psi': 0.,\n",
    "        'theta': 0.,\n",
    "        'phi': 0.,\n",
    "        'v_x': 0.,\n",
    "        'v_y': 0.,\n",
    "        'v_z': 0.,\n",
    "        'w_x': 0.,\n",
    "        'w_y': 0.,\n",
    "        'w_z': 0.,\n",
    "    },\n",
    ")"
   ]
  },
  {
   "cell_type": "markdown",
   "id": "16ab2fb4",
   "metadata": {},
   "source": [
    "You could repeat this process to add more drones, if you want to test more than one client and controller (or more than one initial state) at a time."
   ]
  },
  {
   "cell_type": "markdown",
   "id": "c27a0bd7",
   "metadata": {},
   "source": [
    "### 3.3.4 Set the camera view (optional)"
   ]
  },
  {
   "cell_type": "markdown",
   "id": "cb0a94b0",
   "metadata": {},
   "source": [
    "Here is how to make the camera always look at a certain point (in this case, a point that is 0.3 meters above the origin of the world frame):"
   ]
  },
  {
   "cell_type": "code",
   "execution_count": 32,
   "id": "71aa857b",
   "metadata": {},
   "outputs": [],
   "source": [
    "simulator.set_camera_target([0.0, 0.0, 0.3])"
   ]
  },
  {
   "cell_type": "markdown",
   "id": "b1a4c703",
   "metadata": {},
   "source": [
    "Here is how to make the camera always look at a certain drone (in this case, the one called `my_drone`):"
   ]
  },
  {
   "cell_type": "code",
   "execution_count": 33,
   "id": "3199c757",
   "metadata": {},
   "outputs": [],
   "source": [
    "simulator.set_camera_target('my_drone')"
   ]
  },
  {
   "cell_type": "markdown",
   "id": "9e4b1d1b",
   "metadata": {},
   "source": [
    "Here is how to get a top view:"
   ]
  },
  {
   "cell_type": "code",
   "execution_count": 34,
   "id": "dbb6b3e6",
   "metadata": {},
   "outputs": [],
   "source": [
    "simulator.camera_topview()"
   ]
  },
  {
   "cell_type": "markdown",
   "id": "1bc6a61c",
   "metadata": {},
   "source": [
    "Here is how to get a side view:"
   ]
  },
  {
   "cell_type": "code",
   "execution_count": 35,
   "id": "67f867bb",
   "metadata": {},
   "outputs": [],
   "source": [
    "simulator.camera_sideview()"
   ]
  },
  {
   "cell_type": "markdown",
   "id": "d61964d9",
   "metadata": {},
   "source": [
    "Here is how to change the yaw angle of the camera (i.e., to make the camera rotate about the point it is looking at):"
   ]
  },
  {
   "cell_type": "code",
   "execution_count": 36,
   "id": "dfcff78a",
   "metadata": {},
   "outputs": [],
   "source": [
    "simulator.set_camera_yaw(45)"
   ]
  },
  {
   "cell_type": "markdown",
   "id": "09a54f6d",
   "metadata": {},
   "source": [
    "Here is how to change the distance between the camera and the point it is looking at:"
   ]
  },
  {
   "cell_type": "code",
   "execution_count": 37,
   "id": "7cd08f08",
   "metadata": {},
   "outputs": [],
   "source": [
    "simulator.set_camera_distance(1.0)"
   ]
  },
  {
   "cell_type": "markdown",
   "id": "abc3e25e",
   "metadata": {},
   "source": [
    "### 3.3.5 Run the simulator"
   ]
  },
  {
   "cell_type": "markdown",
   "id": "79885958",
   "metadata": {},
   "source": [
    "Here is how to run the simulator for 10 seconds while saving data to the file `simulation_x_data.json` and saving video to the file `simulation_x_video.json`.\n",
    "\n",
    "If you do not need to save video and want this to run much faster, then specify `video_filename=None`."
   ]
  },
  {
   "cell_type": "code",
   "execution_count": 10,
   "id": "a0e764d1",
   "metadata": {},
   "outputs": [
    {
     "name": "stdout",
     "output_type": "stream",
     "text": [
      "Creating a video with name simulation_video.mov and fps 100\n",
      " 100 / 1000\n",
      " 200 / 1000\n",
      " 300 / 1000\n",
      " 400 / 1000\n",
      " 500 / 1000\n",
      " 600 / 1000\n",
      " 700 / 1000\n",
      " 800 / 1000\n",
      " 900 / 1000\n",
      " 1000 / 1000\n",
      "Completed 1000 time steps in 16.2735 seconds (61.4495 time steps per second)\n"
     ]
    }
   ],
   "source": [
    "simulator.run(\n",
    "    max_time = 10.,\n",
    "    data_filename = 'simulation_data.json',\n",
    "    video_filename = 'simulation_video.mov',\n",
    "    #video_filename = None,\n",
    ")"
   ]
  },
  {
   "cell_type": "code",
   "execution_count": 11,
   "id": "1bfea0d3",
   "metadata": {},
   "outputs": [
    {
     "data": {
      "text/html": [
       "<video width=\"480\" controls>\n",
       "    <source src=\"simulation_video.mov\">\n",
       "</video>\n"
      ],
      "text/plain": [
       "<IPython.core.display.HTML object>"
      ]
     },
     "metadata": {},
     "output_type": "display_data"
    }
   ],
   "source": [
    "%%HTML\n",
    "<video width=\"480\" controls>\n",
    "    <source src=\"simulation_video.mov\">\n",
    "</video>"
   ]
  },
  {
   "cell_type": "markdown",
   "id": "e53f685e",
   "metadata": {},
   "source": [
    "Be careful! Both the data file and the video file will be overwritten if they already exist. We suggest you use a different name for each experiment."
   ]
  }
 ],
 "metadata": {
  "kernelspec": {
   "display_name": "Python 3 (ipykernel)",
   "language": "python",
   "name": "python3"
  },
  "language_info": {
   "codemirror_mode": {
    "name": "ipython",
    "version": 3
   },
   "file_extension": ".py",
   "mimetype": "text/x-python",
   "name": "python",
   "nbconvert_exporter": "python",
   "pygments_lexer": "ipython3",
   "version": "3.9.6"
  }
 },
 "nbformat": 4,
 "nbformat_minor": 5
}
